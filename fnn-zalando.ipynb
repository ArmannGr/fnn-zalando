{
 "cells": [
  {
   "metadata": {},
   "cell_type": "markdown",
   "source": "# FNN Zalando\n",
   "id": "8a77807f92f26ee"
  },
  {
   "metadata": {
    "ExecuteTime": {
     "end_time": "2024-12-23T12:35:47.474626Z",
     "start_time": "2024-12-23T12:35:47.469100Z"
    }
   },
   "cell_type": "code",
   "source": [
    "import numpy\n",
    "# scipy.special for the sigmoid function expit()\n",
    "import scipy.special\n",
    "# library for plotting arrays\n",
    "import matplotlib.pyplot\n",
    "# ensure the plots are inside this notebook, not an external window\n",
    "%matplotlib inline"
   ],
   "id": "bc6c430c935c4b95",
   "outputs": [],
   "execution_count": 43
  },
  {
   "metadata": {},
   "cell_type": "markdown",
   "source": "",
   "id": "511fa870da5dfe0b"
  },
  {
   "metadata": {
    "ExecuteTime": {
     "end_time": "2024-12-23T12:35:48.738076Z",
     "start_time": "2024-12-23T12:35:48.732832Z"
    }
   },
   "cell_type": "code",
   "source": [
    "# neural network class definition\n",
    "class neuralNetwork:\n",
    "    \n",
    "    \n",
    "    # initialise the neural network\n",
    "    def __init__(self, inputnodes, hiddennodes, outputnodes, learningrate):\n",
    "        # set number of nodes in each input, hidden, output layer\n",
    "        self.inodes = inputnodes\n",
    "        self.hnodes = hiddennodes\n",
    "        self.onodes = outputnodes\n",
    "        \n",
    "        # link weight matrices, wih and who\n",
    "        # weights inside the arrays are w_i_j, where link is from node i to node j in the next layer\n",
    "        # w11 w21\n",
    "        # w12 w22 etc \n",
    "        self.wih = numpy.random.normal(0.0, pow(self.inodes, -0.5), (self.hnodes, self.inodes))\n",
    "        self.who = numpy.random.normal(0.0, pow(self.hnodes, -0.5), (self.onodes, self.hnodes))\n",
    "\n",
    "        # learning rate\n",
    "        self.lr = learningrate\n",
    "        \n",
    "        # activation function is the sigmoid function\n",
    "        self.activation_function = lambda x: scipy.special.expit(x)\n",
    "        \n",
    "        pass\n",
    "\n",
    "    \n",
    "    # train the neural network\n",
    "    def train(self, inputs_list, targets_list):\n",
    "        # convert inputs list to 2d array\n",
    "        inputs = numpy.array(inputs_list, ndmin=2).T\n",
    "        targets = numpy.array(targets_list, ndmin=2).T\n",
    "        \n",
    "        # calculate signals into hidden layer\n",
    "        hidden_inputs = numpy.dot(self.wih, inputs)\n",
    "        # calculate the signals emerging from hidden layer\n",
    "        hidden_outputs = self.activation_function(hidden_inputs)\n",
    "        \n",
    "        # calculate signals into final output layer\n",
    "        final_inputs = numpy.dot(self.who, hidden_outputs)\n",
    "        # calculate the signals emerging from final output layer\n",
    "        final_outputs = self.activation_function(final_inputs)\n",
    "        \n",
    "        # output layer error is the (target - actual)\n",
    "        output_errors = targets - final_outputs\n",
    "        # hidden layer error is the output_errors, split by weights, recombined at hidden nodes\n",
    "        hidden_errors = numpy.dot(self.who.T, output_errors) \n",
    "        \n",
    "        # update the weights for the links between the hidden and output layers\n",
    "        self.who += self.lr * numpy.dot((output_errors * final_outputs * (1.0 - final_outputs)), numpy.transpose(hidden_outputs))\n",
    "        \n",
    "        # update the weights for the links between the input and hidden layers\n",
    "        self.wih += self.lr * numpy.dot((hidden_errors * hidden_outputs * (1.0 - hidden_outputs)), numpy.transpose(inputs))\n",
    "        \n",
    "        pass\n",
    "\n",
    "    \n",
    "    # query the neural network\n",
    "    def query(self, inputs_list):\n",
    "        # convert inputs list to 2d array\n",
    "        inputs = numpy.array(inputs_list, ndmin=2).T\n",
    "        \n",
    "        # calculate signals into hidden layer\n",
    "        hidden_inputs = numpy.dot(self.wih, inputs)\n",
    "        # calculate the signals emerging from hidden layer\n",
    "        hidden_outputs = self.activation_function(hidden_inputs)\n",
    "        \n",
    "        # calculate signals into final output layer\n",
    "        final_inputs = numpy.dot(self.who, hidden_outputs)\n",
    "        # calculate the signals emerging from final output layer\n",
    "        final_outputs = self.activation_function(final_inputs)\n",
    "        \n",
    "        return final_outputs"
   ],
   "id": "fbc121e30a2defb3",
   "outputs": [],
   "execution_count": 44
  },
  {
   "metadata": {
    "ExecuteTime": {
     "end_time": "2024-12-23T12:35:52.859683Z",
     "start_time": "2024-12-23T12:35:52.854660Z"
    }
   },
   "cell_type": "code",
   "source": [
    "# number of input, hidden and output nodes\n",
    "input_nodes = 784\n",
    "hidden_nodes = 100\n",
    "output_nodes = 1\n",
    "\n",
    "# learning rate\n",
    "learning_rate = 0.05\n",
    "\n",
    "# create instance of neural network\n",
    "n = neuralNetwork(input_nodes,hidden_nodes,output_nodes, learning_rate)"
   ],
   "id": "58d6204bf1f84c28",
   "outputs": [],
   "execution_count": 45
  },
  {
   "metadata": {
    "ExecuteTime": {
     "end_time": "2024-12-23T12:35:54.890142Z",
     "start_time": "2024-12-23T12:35:54.724304Z"
    }
   },
   "cell_type": "code",
   "source": [
    "with open(\"data/fashion-mnist_train.csv\", 'r') as training_data_file:\n",
    "    training_data_list = training_data_file.readlines()[1:]"
   ],
   "id": "2361e8c8b73646b1",
   "outputs": [],
   "execution_count": 46
  },
  {
   "metadata": {
    "ExecuteTime": {
     "end_time": "2024-12-23T12:35:59.986585Z",
     "start_time": "2024-12-23T12:35:56.355565Z"
    }
   },
   "cell_type": "code",
   "source": [
    "# epochs is the number of times the training data set is used for training\n",
    "epochs = 1\n",
    "\n",
    "# counter for skipped records\n",
    "skipped_records = 0\n",
    "\n",
    "for e in range(epochs):\n",
    "    # go through all records in the training data set\n",
    "    for record in training_data_list:\n",
    "        # split the record by the ',' commas\n",
    "        all_values = record.split(',')\n",
    "        # check if all values are present\n",
    "        if len(all_values) < 2 or '' in all_values:\n",
    "            skipped_records += 1\n",
    "            continue\n",
    "        # scale and shift the inputs\n",
    "        inputs = (numpy.asarray(all_values[1:], dtype=float) / 255.0 * 0.99) + 0.01\n",
    "        # create the target output value (0.01 or 0.99)\n",
    "        target = numpy.array([0.99 if int(all_values[0]) == 1 else 0.01])\n"
   ],
   "id": "9db035926e48478f",
   "outputs": [],
   "execution_count": 47
  },
  {
   "metadata": {
    "ExecuteTime": {
     "end_time": "2024-12-23T12:36:01.675402Z",
     "start_time": "2024-12-23T12:36:01.673336Z"
    }
   },
   "cell_type": "code",
   "source": "print(f'Skipped records: {skipped_records}/{len(training_data_list)}')",
   "id": "628fd1e75b654642",
   "outputs": [
    {
     "name": "stdout",
     "output_type": "stream",
     "text": [
      "Skipped records: 0/60000\n"
     ]
    }
   ],
   "execution_count": 48
  },
  {
   "metadata": {},
   "cell_type": "markdown",
   "source": "",
   "id": "6d1feb6be662aca6"
  },
  {
   "metadata": {
    "ExecuteTime": {
     "end_time": "2024-12-23T12:36:06.365425Z",
     "start_time": "2024-12-23T12:36:06.348893Z"
    }
   },
   "cell_type": "code",
   "source": [
    "with open(\"data/fashion-mnist_test.csv\", 'r') as test_data_file:\n",
    "    test_data_list = test_data_file.readlines()[1:]"
   ],
   "id": "2d0232118498a7b",
   "outputs": [],
   "execution_count": 49
  },
  {
   "metadata": {
    "ExecuteTime": {
     "end_time": "2024-12-23T12:36:09.072842Z",
     "start_time": "2024-12-23T12:36:08.347658Z"
    }
   },
   "cell_type": "code",
   "source": [
    "# test the neural network\n",
    "\n",
    "# scorecard for how well the network performs, initially empty\n",
    "scorecard = []\n",
    "\n",
    "# counter for skipped records\n",
    "skipped_records = 0\n",
    "\n",
    "# go through all the records in the test data set\n",
    "for record in test_data_list:\n",
    "    # split the record by the ',' commas\n",
    "    all_values = record.split(',')\n",
    "    # check if all values are present\n",
    "    if len(all_values) != 785:  # 1 label + 784 features\n",
    "        skipped_records += 1\n",
    "        continue\n",
    "    # correct answer is first value\n",
    "    correct_label = int(all_values[0])\n",
    "    # scale and shift the inputs\n",
    "    inputs = (numpy.asarray(all_values[1:], dtype=float) / 255.0 * 0.99) + 0.01\n",
    "    # query the network\n",
    "    outputs = n.query(inputs)\n",
    "    # the output is a single value, so we compare it directly\n",
    "    predicted_label = 1 if outputs[0] > 0.5 else 0\n",
    "    # append correct or incorrect to list\n",
    "    if predicted_label == correct_label:\n",
    "        # network's answer matches correct answer, add 1 to scorecard\n",
    "        scorecard.append(1)\n",
    "    else:\n",
    "        # network's answer doesn't match correct answer, add 0 to scorecard\n",
    "        scorecard.append(0)"
   ],
   "id": "5fc9a74f88a5883e",
   "outputs": [],
   "execution_count": 50
  },
  {
   "metadata": {
    "ExecuteTime": {
     "end_time": "2024-12-23T12:36:11.198327Z",
     "start_time": "2024-12-23T12:36:11.194741Z"
    }
   },
   "cell_type": "code",
   "source": [
    "# calculate the performance score, which is the ratio of correct answers\n",
    "performance = sum(scorecard) / len(scorecard)\n",
    "print(f'Performance: {performance}')\n",
    "print(f'Skipped records: {skipped_records}/{len(test_data_list)}')"
   ],
   "id": "a2cb8b6ee1fee220",
   "outputs": [
    {
     "name": "stdout",
     "output_type": "stream",
     "text": [
      "Performance: 0.1037\n",
      "Skipped records: 0/10000\n"
     ]
    }
   ],
   "execution_count": 51
  },
  {
   "metadata": {
    "ExecuteTime": {
     "end_time": "2024-12-23T12:36:15.393055Z",
     "start_time": "2024-12-23T12:36:15.373297Z"
    }
   },
   "cell_type": "code",
   "source": [
    "# Erstellen Sie eine Liste von 10 Modellen\n",
    "models = []\n",
    "for i in range(10):\n",
    "    models.append(neuralNetwork(input_nodes, hidden_nodes, output_nodes, learning_rate))"
   ],
   "id": "37c33dd52dbcf1b8",
   "outputs": [],
   "execution_count": 52
  },
  {
   "metadata": {
    "ExecuteTime": {
     "end_time": "2024-12-23T12:37:20.332542Z",
     "start_time": "2024-12-23T12:36:18.860574Z"
    }
   },
   "cell_type": "code",
   "source": [
    "# Trainieren Sie jedes Modell auf die jeweilige Klasse gegen den Rest\n",
    "for i in range(10):\n",
    "    for e in range(epochs):\n",
    "        for record in training_data_list:\n",
    "            all_values = record.split(',')\n",
    "            if len(all_values) < 2 or '' in all_values:\n",
    "                skipped_records += 1\n",
    "                continue\n",
    "            inputs = (numpy.asarray(all_values[1:], dtype=float) / 255.0 * 0.99) + 0.01\n",
    "            target = numpy.array([0.99 if int(all_values[0]) == i else 0.01])\n",
    "            models[i].train(inputs, target)"
   ],
   "id": "7f0e7eb9227ee741",
   "outputs": [],
   "execution_count": 53
  },
  {
   "metadata": {
    "ExecuteTime": {
     "end_time": "2024-12-23T12:37:25.745791Z",
     "start_time": "2024-12-23T12:37:24.425395Z"
    }
   },
   "cell_type": "code",
   "source": [
    "# Testen Sie jedes Bild mit allen 10 Modellen\n",
    "scorecard = []\n",
    "for record in test_data_list:\n",
    "    all_values = record.split(',')\n",
    "    if len(all_values) != 785:\n",
    "        skipped_records += 1\n",
    "        continue\n",
    "    correct_label = int(all_values[0])\n",
    "    inputs = (numpy.asarray(all_values[1:], dtype=float) / 255.0 * 0.99) + 0.01\n",
    "    outputs = [model.query(inputs) for model in models]\n",
    "    predicted_labels = [i for i, output in enumerate(outputs) if output[0] > 0.5]\n",
    "    if correct_label in predicted_labels:\n",
    "        scorecard.append(1)\n",
    "    else:\n",
    "        scorecard.append(0)"
   ],
   "id": "2ef4498a59f7ffab",
   "outputs": [],
   "execution_count": 54
  },
  {
   "metadata": {
    "ExecuteTime": {
     "end_time": "2024-12-23T12:37:29.668472Z",
     "start_time": "2024-12-23T12:37:29.666447Z"
    }
   },
   "cell_type": "code",
   "source": [
    "# Berechnen Sie die Leistung\n",
    "performance = sum(scorecard) / len(scorecard)\n",
    "print(f'Performance: {performance}')\n",
    "print(f'Skipped records: {skipped_records}/{len(test_data_list)}')"
   ],
   "id": "1b5e0ae64ba9c8f4",
   "outputs": [
    {
     "name": "stdout",
     "output_type": "stream",
     "text": [
      "Performance: 0.8076\n",
      "Skipped records: 0/10000\n"
     ]
    }
   ],
   "execution_count": 55
  },
  {
   "metadata": {
    "ExecuteTime": {
     "end_time": "2024-12-23T12:49:06.148669Z",
     "start_time": "2024-12-23T12:49:06.035453Z"
    }
   },
   "cell_type": "code",
   "source": [
    "# Create a list of 10 ensembles, each containing 10 models\n",
    "ensembles = []\n",
    "for _ in range(10):\n",
    "    ensemble = []\n",
    "    for i in range(10):\n",
    "        ensemble.append(neuralNetwork(input_nodes, hidden_nodes, output_nodes, learning_rate))\n",
    "    ensembles.append(ensemble)"
   ],
   "id": "89f8cc7a3d1743c0",
   "outputs": [],
   "execution_count": 57
  },
  {
   "metadata": {
    "ExecuteTime": {
     "end_time": "2024-12-23T12:59:44.857641Z",
     "start_time": "2024-12-23T12:49:45.862434Z"
    }
   },
   "cell_type": "code",
   "source": [
    "# Train each model in each ensemble on the respective class against the rest\n",
    "for ensemble in ensembles:\n",
    "    for i in range(10):\n",
    "        for e in range(epochs):\n",
    "            for record in training_data_list:\n",
    "                all_values = record.split(',')\n",
    "                if len(all_values) < 2 or '' in all_values:\n",
    "                    skipped_records += 1\n",
    "                    continue\n",
    "                inputs = (numpy.asarray(all_values[1:], dtype=float) / 255.0 * 0.99) + 0.01\n",
    "                target = numpy.array([0.99 if int(all_values[0]) == i else 0.01])\n",
    "                ensemble[i].train(inputs, target)"
   ],
   "id": "a6e59fc0b528fc69",
   "outputs": [],
   "execution_count": 58
  },
  {
   "metadata": {
    "ExecuteTime": {
     "end_time": "2024-12-23T13:03:33.603921Z",
     "start_time": "2024-12-23T13:03:16.752539Z"
    }
   },
   "cell_type": "code",
   "source": [
    "# Test each image with all models in all ensembles\n",
    "scorecard = []\n",
    "for record in test_data_list:\n",
    "    all_values = record.split(',')\n",
    "    if len(all_values) != 785:\n",
    "        skipped_records += 1\n",
    "        continue\n",
    "    correct_label = int(all_values[0])\n",
    "    inputs = (numpy.asarray(all_values[1:], dtype=float) / 255.0 * 0.99) + 0.01\n",
    "    ensemble_outputs = []\n",
    "    for ensemble in ensembles:\n",
    "        outputs = [model.query(inputs) for model in ensemble]\n",
    "        predicted_labels = [i for i, output in enumerate(outputs) if output[0] > 0.5]\n",
    "        ensemble_outputs.append(predicted_labels)\n",
    "    # Aggregate predictions from all ensembles\n",
    "    all_predictions = sum(ensemble_outputs, [])\n",
    "    if all_predictions:\n",
    "        final_prediction = max(set(all_predictions), key=all_predictions.count)\n",
    "        if correct_label == final_prediction:\n",
    "            scorecard.append(1)\n",
    "        else:\n",
    "            scorecard.append(0)\n",
    "    else:\n",
    "        # Handle the case where no model predicts a label with confidence > 0.5\n",
    "        scorecard.append(0)"
   ],
   "id": "a56093d46963804a",
   "outputs": [],
   "execution_count": 60
  },
  {
   "metadata": {
    "ExecuteTime": {
     "end_time": "2024-12-23T13:03:35.794746Z",
     "start_time": "2024-12-23T13:03:35.791664Z"
    }
   },
   "cell_type": "code",
   "source": [
    "# Calculate performance\n",
    "performance = sum(scorecard) / len(scorecard)\n",
    "print(f'Performance: {performance}')\n",
    "print(f'Skipped records: {skipped_records}/{len(test_data_list)}')"
   ],
   "id": "7402cd41bf648ab9",
   "outputs": [
    {
     "name": "stdout",
     "output_type": "stream",
     "text": [
      "Performance: 0.8016\n",
      "Skipped records: 0/10000\n"
     ]
    }
   ],
   "execution_count": 61
  }
 ],
 "metadata": {
  "kernelspec": {
   "display_name": "Python 3",
   "language": "python",
   "name": "python3"
  },
  "language_info": {
   "codemirror_mode": {
    "name": "ipython",
    "version": 2
   },
   "file_extension": ".py",
   "mimetype": "text/x-python",
   "name": "python",
   "nbconvert_exporter": "python",
   "pygments_lexer": "ipython2",
   "version": "2.7.6"
  }
 },
 "nbformat": 4,
 "nbformat_minor": 5
}
