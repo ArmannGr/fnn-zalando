{
 "cells": [
  {
   "metadata": {},
   "cell_type": "markdown",
   "source": "# FNN Zalando\n",
   "id": "8a77807f92f26ee"
  },
  {
   "metadata": {
    "ExecuteTime": {
     "end_time": "2024-12-08T20:25:14.654279Z",
     "start_time": "2024-12-08T20:25:14.303762Z"
    }
   },
   "cell_type": "code",
   "source": [
    "import numpy\n",
    "import scipy.special\n",
    "import matplotlib.pyplot\n",
    "%matplotlib inline\n",
    "\n",
    "class neuralNetwork:\n",
    "    def __init__(self, inputnodes, hiddennodes1, hiddennodes2, outputnodes, learningrate):\n",
    "        self.inodes = inputnodes\n",
    "        self.hnodes1 = hiddennodes1\n",
    "        self.hnodes2 = hiddennodes2\n",
    "        self.onodes = outputnodes\n",
    "\n",
    "        self.wih = numpy.random.normal(0.0, pow(self.inodes, -0.5), (self.hnodes1, self.inodes))\n",
    "        self.whh = numpy.random.normal(0.0, pow(self.hnodes1, -0.5), (self.hnodes2, self.hnodes1))\n",
    "        self.who = numpy.random.normal(0.0, pow(self.hnodes2, -0.5), (self.onodes, self.hnodes2))\n",
    "\n",
    "        self.lr = learningrate\n",
    "        self.activation_function = lambda x: scipy.special.expit(x)\n",
    "\n",
    "    def train(self, inputs_list, targets_list):\n",
    "        inputs = numpy.array(inputs_list, ndmin=2).T\n",
    "        targets = numpy.array(targets_list, ndmin=2).T\n",
    "\n",
    "        hidden_inputs1 = numpy.dot(self.wih, inputs)\n",
    "        hidden_outputs1 = self.activation_function(hidden_inputs1)\n",
    "\n",
    "        hidden_inputs2 = numpy.dot(self.whh, hidden_outputs1)\n",
    "        hidden_outputs2 = self.activation_function(hidden_inputs2)\n",
    "\n",
    "        final_inputs = numpy.dot(self.who, hidden_outputs2)\n",
    "        final_outputs = self.activation_function(final_inputs)\n",
    "\n",
    "        output_errors = targets - final_outputs\n",
    "        hidden_errors2 = numpy.dot(self.who.T, output_errors)\n",
    "        hidden_errors1 = numpy.dot(self.whh.T, hidden_errors2)\n",
    "\n",
    "        self.who += self.lr * numpy.dot((output_errors * final_outputs * (1.0 - final_outputs)), numpy.transpose(hidden_outputs2))\n",
    "        self.whh += self.lr * numpy.dot((hidden_errors2 * hidden_outputs2 * (1.0 - hidden_outputs2)), numpy.transpose(hidden_outputs1))\n",
    "        self.wih += self.lr * numpy.dot((hidden_errors1 * hidden_outputs1 * (1.0 - hidden_outputs1)), numpy.transpose(inputs))\n",
    "\n",
    "    def query(self, inputs_list):\n",
    "        inputs = numpy.array(inputs_list, ndmin=2).T\n",
    "\n",
    "        hidden_inputs1 = numpy.dot(self.wih, inputs)\n",
    "        hidden_outputs1 = self.activation_function(hidden_inputs1)\n",
    "\n",
    "        hidden_inputs2 = numpy.dot(self.whh, hidden_outputs1)\n",
    "        hidden_outputs2 = self.activation_function(hidden_inputs2)\n",
    "\n",
    "        final_inputs = numpy.dot(self.who, hidden_outputs2)\n",
    "        final_outputs = self.activation_function(final_inputs)\n",
    "\n",
    "        return final_outputs\n"
   ],
   "id": "fbc121e30a2defb3",
   "outputs": [],
   "execution_count": 1
  },
  {
   "metadata": {
    "ExecuteTime": {
     "end_time": "2024-12-08T20:26:35.023454Z",
     "start_time": "2024-12-08T20:26:35.016072Z"
    }
   },
   "cell_type": "code",
   "source": [
    "# number of input, hidden and output nodes\n",
    "input_nodes = 784\n",
    "hidden_nodes1 = 200\n",
    "hidden_nodes2 = 150\n",
    "output_nodes = 1\n",
    "\n",
    "# learning rate\n",
    "learning_rate = 0.05\n",
    "\n",
    "# create instance of neural network\n",
    "n = neuralNetwork(input_nodes, hidden_nodes1, hidden_nodes2, output_nodes, learning_rate)"
   ],
   "id": "58d6204bf1f84c28",
   "outputs": [],
   "execution_count": 3
  },
  {
   "metadata": {
    "ExecuteTime": {
     "end_time": "2024-12-08T20:26:36.584402Z",
     "start_time": "2024-12-08T20:26:36.469071Z"
    }
   },
   "cell_type": "code",
   "source": [
    "# load the mnist training data CSV file into a list\n",
    "training_data_file = open(\"data/fashion-mnist_train.csv\", 'r')\n",
    "training_data_list = training_data_file.readlines()\n",
    "training_data_file.close()"
   ],
   "id": "2361e8c8b73646b1",
   "outputs": [],
   "execution_count": 4
  },
  {
   "metadata": {},
   "cell_type": "code",
   "outputs": [],
   "execution_count": null,
   "source": [
    "# train the neural network\n",
    "\n",
    "# epochs is the number of times the training data set is used for training\n",
    "epochs = 5\n",
    "\n",
    "for e in range(epochs):\n",
    "    # go through all records in the training data set\n",
    "    for record in training_data_list:\n",
    "        # split the record by the ',' commas\n",
    "        all_values = record.split(',')\n",
    "        # scale and shift the inputs\n",
    "        inputs = (numpy.asarray(all_values[1:], dtype=float) / 255.0 * 0.99) + 0.01\n",
    "        # create the target output values (all 0.01, except the desired label which is 0.99)\n",
    "        targets = numpy.zeros(output_nodes) + 0.01\n",
    "        # all_values[0] is the target label for this record\n",
    "        targets[int(all_values[0])] = 0.99\n",
    "        n.train(inputs, targets)\n",
    "        pass\n",
    "    pass"
   ],
   "id": "2b8a89dbb4c8a6fc"
  }
 ],
 "metadata": {
  "kernelspec": {
   "display_name": "Python 3",
   "language": "python",
   "name": "python3"
  },
  "language_info": {
   "codemirror_mode": {
    "name": "ipython",
    "version": 2
   },
   "file_extension": ".py",
   "mimetype": "text/x-python",
   "name": "python",
   "nbconvert_exporter": "python",
   "pygments_lexer": "ipython2",
   "version": "2.7.6"
  }
 },
 "nbformat": 4,
 "nbformat_minor": 5
}
